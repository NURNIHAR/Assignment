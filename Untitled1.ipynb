{
 "cells": [
  {
   "cell_type": "code",
   "execution_count": null,
   "id": "813a2c9f-c72e-4c96-a19c-0cc2be85b4fa",
   "metadata": {
    "jupyter": {
     "source_hidden": true
    },
    "tags": []
   },
   "outputs": [],
   "source": [
    "def printer():\n",
    "    print(\"hello world\")"
   ]
  },
  {
   "cell_type": "code",
   "execution_count": 5,
   "id": "92c01d9d-d39a-4379-b388-b6809b91c207",
   "metadata": {},
   "outputs": [
    {
     "ename": "NameError",
     "evalue": "name 'printer' is not defined",
     "output_type": "error",
     "traceback": [
      "\u001b[0;31m---------------------------------------------------------------------------\u001b[0m",
      "\u001b[0;31mNameError\u001b[0m                                 Traceback (most recent call last)",
      "Cell \u001b[0;32mIn [5], line 1\u001b[0m\n\u001b[0;32m----> 1\u001b[0m \u001b[43mprinter\u001b[49m()\n",
      "\u001b[0;31mNameError\u001b[0m: name 'printer' is not defined"
     ]
    }
   ],
   "source": [
    "printer()"
   ]
  },
  {
   "cell_type": "code",
   "execution_count": null,
   "id": "0d52dc06-cf49-4f73-95a4-dec6552f704e",
   "metadata": {},
   "outputs": [],
   "source": []
  },
  {
   "cell_type": "code",
   "execution_count": null,
   "id": "86021d1f-bb5e-4d98-94c3-44cb1b403269",
   "metadata": {},
   "outputs": [],
   "source": []
  },
  {
   "cell_type": "code",
   "execution_count": 6,
   "id": "e8accc31-149a-4d53-8d2d-d2d8aa733f5f",
   "metadata": {},
   "outputs": [],
   "source": [
    "def display_info(func):\n",
    "    def inner():\n",
    "        print(\"Executing\",func_name_,\"function\")\n",
    "        func()\n",
    "        print(\"finished executing\")\n",
    "    return inner"
   ]
  },
  {
   "cell_type": "code",
   "execution_count": 7,
   "id": "be8655fb-b83f-4a46-8025-495b689089e0",
   "metadata": {},
   "outputs": [
    {
     "ename": "NameError",
     "evalue": "name 'printer' is not defined",
     "output_type": "error",
     "traceback": [
      "\u001b[0;31m---------------------------------------------------------------------------\u001b[0m",
      "\u001b[0;31mNameError\u001b[0m                                 Traceback (most recent call last)",
      "Cell \u001b[0;32mIn [7], line 1\u001b[0m\n\u001b[0;32m----> 1\u001b[0m decorated\u001b[38;5;241m=\u001b[39mdisplay_info(\u001b[43mprinter\u001b[49m)\n",
      "\u001b[0;31mNameError\u001b[0m: name 'printer' is not defined"
     ]
    }
   ],
   "source": [
    "decorated=display_info(printer)"
   ]
  },
  {
   "cell_type": "code",
   "execution_count": 8,
   "id": "e1253231-48f6-4990-892a-3911d8c34361",
   "metadata": {},
   "outputs": [
    {
     "ename": "NameError",
     "evalue": "name 'decorated' is not defined",
     "output_type": "error",
     "traceback": [
      "\u001b[0;31m---------------------------------------------------------------------------\u001b[0m",
      "\u001b[0;31mNameError\u001b[0m                                 Traceback (most recent call last)",
      "Cell \u001b[0;32mIn [8], line 1\u001b[0m\n\u001b[0;32m----> 1\u001b[0m \u001b[38;5;28mtype\u001b[39m(\u001b[43mdecorated\u001b[49m)\n",
      "\u001b[0;31mNameError\u001b[0m: name 'decorated' is not defined"
     ]
    }
   ],
   "source": [
    "type(decorated)"
   ]
  },
  {
   "cell_type": "code",
   "execution_count": 13,
   "id": "02b61d0c-0bf7-4362-88ee-a20f792904cc",
   "metadata": {},
   "outputs": [],
   "source": [
    "def divide(a,b):\n",
    "    return a/b"
   ]
  },
  {
   "cell_type": "code",
   "execution_count": 14,
   "id": "78eb97c4-6298-4441-8063-d1510dd442ec",
   "metadata": {},
   "outputs": [
    {
     "data": {
      "text/plain": [
       "0.4"
      ]
     },
     "execution_count": 14,
     "metadata": {},
     "output_type": "execute_result"
    }
   ],
   "source": [
    "divide(2,5)"
   ]
  },
  {
   "cell_type": "code",
   "execution_count": 17,
   "id": "f4e96913-a78f-4266-9be0-1ed72d26e1fb",
   "metadata": {},
   "outputs": [],
   "source": [
    "def smart_divide (func):\n",
    "    def inner(a,b):\n",
    "        print(\"i am going to divide\",a,\"and\", b)\n",
    "        if b==0:\n",
    "            print(\"cannot divide\")\n",
    "            return\n",
    "        return func(a,b)\n",
    "    return inner"
   ]
  },
  {
   "cell_type": "code",
   "execution_count": 18,
   "id": "6c802f5a-7586-46ff-97e2-83c2bef0999f",
   "metadata": {},
   "outputs": [],
   "source": [
    "def divide(a,b):\n",
    "    return a/b"
   ]
  },
  {
   "cell_type": "code",
   "execution_count": 19,
   "id": "7276c1fa-ca5f-4a89-87e9-1276299b2d2a",
   "metadata": {},
   "outputs": [
    {
     "ename": "ZeroDivisionError",
     "evalue": "division by zero",
     "output_type": "error",
     "traceback": [
      "\u001b[0;31m---------------------------------------------------------------------------\u001b[0m",
      "\u001b[0;31mZeroDivisionError\u001b[0m                         Traceback (most recent call last)",
      "Cell \u001b[0;32mIn [19], line 1\u001b[0m\n\u001b[0;32m----> 1\u001b[0m \u001b[43mdivide\u001b[49m\u001b[43m(\u001b[49m\u001b[38;5;241;43m2\u001b[39;49m\u001b[43m,\u001b[49m\u001b[38;5;241;43m0\u001b[39;49m\u001b[43m)\u001b[49m\n",
      "Cell \u001b[0;32mIn [18], line 2\u001b[0m, in \u001b[0;36mdivide\u001b[0;34m(a, b)\u001b[0m\n\u001b[1;32m      1\u001b[0m \u001b[38;5;28;01mdef\u001b[39;00m \u001b[38;5;21mdivide\u001b[39m(a,b):\n\u001b[0;32m----> 2\u001b[0m     \u001b[38;5;28;01mreturn\u001b[39;00m \u001b[43ma\u001b[49m\u001b[38;5;241;43m/\u001b[39;49m\u001b[43mb\u001b[49m\n",
      "\u001b[0;31mZeroDivisionError\u001b[0m: division by zero"
     ]
    }
   ],
   "source": [
    "divide(2,0)"
   ]
  },
  {
   "cell_type": "code",
   "execution_count": null,
   "id": "e3c590ce-f057-4098-9c5a-f2b36bbdafea",
   "metadata": {},
   "outputs": [],
   "source": []
  },
  {
   "cell_type": "code",
   "execution_count": null,
   "id": "a2d3dd62-966f-47a8-9054-8accda297f43",
   "metadata": {},
   "outputs": [],
   "source": [
    "def printer(msg):\n",
    "    print(msg)"
   ]
  },
  {
   "cell_type": "code",
   "execution_count": 24,
   "id": "07baf4d9-1aee-4dec-9312-6400b088cb8d",
   "metadata": {},
   "outputs": [
    {
     "name": "stdout",
     "output_type": "stream",
     "text": [
      "Hello\n"
     ]
    }
   ],
   "source": [
    "def star (func):\n",
    "    def inner (*args,**kwargs):\n",
    "        print(\"*\" *30)\n",
    "        func(*args,**kwargs)\n",
    "        print(\"*\"*30)\n",
    "    return inner\n",
    "@star\n",
    "def printer(msg):\n",
    "    print(msg)\n",
    "printer(\"Hello\")"
   ]
  },
  {
   "cell_type": "code",
   "execution_count": null,
   "id": "b84808ee-c256-4a36-b3c0-c6ac690bd949",
   "metadata": {},
   "outputs": [],
   "source": []
  }
 ],
 "metadata": {
  "kernelspec": {
   "display_name": "Python 3 (ipykernel)",
   "language": "python",
   "name": "python3"
  },
  "language_info": {
   "codemirror_mode": {
    "name": "ipython",
    "version": 3
   },
   "file_extension": ".py",
   "mimetype": "text/x-python",
   "name": "python",
   "nbconvert_exporter": "python",
   "pygments_lexer": "ipython3",
   "version": "3.10.6"
  }
 },
 "nbformat": 4,
 "nbformat_minor": 5
}
