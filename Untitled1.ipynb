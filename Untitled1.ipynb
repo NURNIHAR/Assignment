{
 "cells": [
  {
   "cell_type": "code",
   "execution_count": 15,
   "id": "15d041b2-8dd8-4f4d-8263-bedb6c2e87ce",
   "metadata": {},
   "outputs": [],
   "source": [
    "def test9(a,b):\n",
    "    if type(a)==list and type(b)==list:\n",
    "        a.extend(b)\n",
    "        return a.extend(b)\n",
    "    else:\n",
    "        return \"either of your data is not a list\""
   ]
  },
  {
   "cell_type": "code",
   "execution_count": 11,
   "id": "7291f602-73a3-4977-93e0-06e60113bf5b",
   "metadata": {},
   "outputs": [],
   "source": [
    "n=test9([2,3,4,5,6],[4,5,7,788])"
   ]
  },
  {
   "cell_type": "code",
   "execution_count": 16,
   "id": "0c7463cc-7868-4e6d-a7b0-049ff0438eab",
   "metadata": {},
   "outputs": [],
   "source": [
    "a=[2,3,4,5,6]\n",
    "b=[4,5,7,788]"
   ]
  },
  {
   "cell_type": "code",
   "execution_count": 17,
   "id": "bd5f7328-f75f-4e2a-acea-8ac647321664",
   "metadata": {},
   "outputs": [],
   "source": [
    "test9(a,b)"
   ]
  },
  {
   "cell_type": "code",
   "execution_count": 18,
   "id": "a3ef3c2d-04ed-4489-a85c-8d2b33a6d801",
   "metadata": {},
   "outputs": [
    {
     "data": {
      "text/plain": [
       "[2, 3, 4, 5, 6, 4, 5, 7, 788, 4, 5, 7, 788]"
      ]
     },
     "execution_count": 18,
     "metadata": {},
     "output_type": "execute_result"
    }
   ],
   "source": [
    "a"
   ]
  },
  {
   "cell_type": "code",
   "execution_count": 19,
   "id": "31f0438a-fd5c-4622-b849-82b4a0f79fe2",
   "metadata": {},
   "outputs": [
    {
     "data": {
      "text/plain": [
       "[2, 3, 4, 5, 6, 4, 5, 7, 788, 4, 5, 7, 788]"
      ]
     },
     "execution_count": 19,
     "metadata": {},
     "output_type": "execute_result"
    }
   ],
   "source": [
    "a"
   ]
  },
  {
   "cell_type": "code",
   "execution_count": 42,
   "id": "59872884-d325-49dc-814e-ecfefca712c1",
   "metadata": {},
   "outputs": [],
   "source": [
    "def triangle(rows):\n",
    "    if type(rows)==int:\n",
    "        for i in range(0,rows):\n",
    "            for j in range(0,i+1):\n",
    "                print(\"*\",end=\" \")\n",
    "            print(\"\\n\")"
   ]
  },
  {
   "cell_type": "code",
   "execution_count": 43,
   "id": "e0464bde-91c4-48ea-8760-b3a80b4d8cd8",
   "metadata": {},
   "outputs": [
    {
     "name": "stdout",
     "output_type": "stream",
     "text": [
      "* \n",
      "\n",
      "* * \n",
      "\n",
      "* * * \n",
      "\n",
      "* * * * \n",
      "\n",
      "* * * * * \n",
      "\n",
      "* * * * * * \n",
      "\n"
     ]
    }
   ],
   "source": [
    "triangle(6)"
   ]
  },
  {
   "cell_type": "code",
   "execution_count": 33,
   "id": "fdbdcf45-4dd3-4dac-9939-95f42599b132",
   "metadata": {},
   "outputs": [
    {
     "name": "stdout",
     "output_type": "stream",
     "text": [
      "* \n",
      "\n",
      "* * \n",
      "\n"
     ]
    }
   ],
   "source": [
    "triangle(3)"
   ]
  },
  {
   "cell_type": "code",
   "execution_count": 37,
   "id": "816a07a1-ae56-4401-b456-a0220417ca6f",
   "metadata": {},
   "outputs": [],
   "source": [
    "def test10(n):\n",
    "    **this is a fun with which will help you to creat a triangle with any no of rows**\n",
    "    for i in range(0,n):\n",
    "        for j in range(0,i+1):\n",
    "            print(\"*\",end=\" \")\n",
    "        print(\"\\r\")"
   ]
  },
  {
   "cell_type": "code",
   "execution_count": 41,
   "id": "f9a975d9-eb75-40db-86e0-205d9805bf16",
   "metadata": {},
   "outputs": [
    {
     "name": "stdout",
     "output_type": "stream",
     "text": [
      "* \n",
      "* * \n",
      "* * * \n",
      "* * * * \n",
      "* * * * * \n",
      "* * * * * * \n",
      "* * * * * * * \n",
      "* * * * * * * * \n",
      "* * * * * * * * * \n",
      "* * * * * * * * * * \n",
      "* * * * * * * * * * * \n",
      "* * * * * * * * * * * * \n",
      "* * * * * * * * * * * * * \n",
      "* * * * * * * * * * * * * * \n"
     ]
    }
   ],
   "source": [
    "test10(4)"
   ]
  },
  {
   "cell_type": "code",
   "execution_count": 49,
   "id": "eb6c38fe-7681-4a7b-b57a-0ce0b1f6c6b5",
   "metadata": {},
   "outputs": [
    {
     "name": "stdout",
     "output_type": "stream",
     "text": [
      "Help on function test10 in module __main__:\n",
      "\n",
      "test10(n)\n",
      "\n"
     ]
    }
   ],
   "source": [
    "help(test10)"
   ]
  },
  {
   "cell_type": "code",
   "execution_count": 46,
   "id": "e5825969-aff8-429c-8778-172a4188087c",
   "metadata": {},
   "outputs": [],
   "source": [
    "def ext(a,b):\n",
    "    if type(a)==list and type(b)==list:\n",
    "        a.extend(b)\n",
    "        return a\n",
    "    else:\n",
    "        print(\"it is not in list\")"
   ]
  },
  {
   "cell_type": "code",
   "execution_count": 47,
   "id": "f2d97236-33d0-42ef-a887-fdfee17633d6",
   "metadata": {},
   "outputs": [
    {
     "data": {
      "text/plain": [
       "[3, 4, 5, 6, 76, 4, 5, 6, 76]"
      ]
     },
     "execution_count": 47,
     "metadata": {},
     "output_type": "execute_result"
    }
   ],
   "source": [
    "ext([3,4,5,6,76],[4,5,6,76])"
   ]
  },
  {
   "cell_type": "code",
   "execution_count": null,
   "id": "2b1c7fd7-a6a5-4cbb-a13e-83cec73b0d87",
   "metadata": {},
   "outputs": [],
   "source": [
    "1. write  a function which will be able to return alen of it without using ain built fun len\n",
    "2.write a fun which will be able to print an index of all premitive element which you will pass.\n",
    "3.write afunction which will take input as a dict and give me out as alist of all values even \n",
    "in case of 2 level nesting it should work.\n",
    "4.write a fun which will take another as an input and return me an output.\n",
    "5.write a function which will take list as an input and giv rn econcatnation of all the element as an ouput.\n",
    "6.write a fun which will be able to take alist  as an input  return an index of each elemnt."
   ]
  }
 ],
 "metadata": {
  "kernelspec": {
   "display_name": "Python 3 (ipykernel)",
   "language": "python",
   "name": "python3"
  },
  "language_info": {
   "codemirror_mode": {
    "name": "ipython",
    "version": 3
   },
   "file_extension": ".py",
   "mimetype": "text/x-python",
   "name": "python",
   "nbconvert_exporter": "python",
   "pygments_lexer": "ipython3",
   "version": "3.10.6"
  },
  "toc-showcode": true
 },
 "nbformat": 4,
 "nbformat_minor": 5
}
