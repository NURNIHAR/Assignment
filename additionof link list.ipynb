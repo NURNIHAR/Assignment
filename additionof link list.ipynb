{
 "cells": [
  {
   "cell_type": "code",
   "execution_count": 5,
   "id": "64f8b976-0bb7-4380-975e-4728d130626f",
   "metadata": {},
   "outputs": [
    {
     "ename": "IndentationError",
     "evalue": "unexpected indent (2794136642.py, line 3)",
     "output_type": "error",
     "traceback": [
      "\u001b[0;36m  Cell \u001b[0;32mIn [5], line 3\u001b[0;36m\u001b[0m\n\u001b[0;31m    self.val=val\u001b[0m\n\u001b[0m    ^\u001b[0m\n\u001b[0;31mIndentationError\u001b[0m\u001b[0;31m:\u001b[0m unexpected indent\n"
     ]
    }
   ],
   "source": [
    "class listnode:\n",
    "    def_ini_(self,val=0,next=none)\n",
    "        self.val=val\n",
    "        self.next=next\n",
    "def addnumbers(self,l1:first[listnode],l2:second[listnode]):\n",
    "    if not l1:\n",
    "        returnl2\n",
    "    if not l2:\n",
    "        returnl1\n",
    "    hesd=l1\n",
    "    prev=l1\n",
    "    carry=0\n",
    "    while l1 or l2:\n",
    "        sum=(l1.val if l1 else 0)+(l2.val if l2 else 0)+carry\n",
    "        carry=sum/10\n",
    "        sum=sum%10\n",
    "        if l1:\n",
    "            l1.val=sum\n",
    "            prev=l1\n",
    "            l1=l1.next\n",
    "        else:\n",
    "            newnode=listnode(sum,none)\n",
    "            prev.next=newnode\n",
    "            prev=prev.next\n",
    "        if l2:\n",
    "            l2=l2.next\n",
    "        if carry==1:\n",
    "            newnode=listnode(carry,none)\n",
    "            prev.next=newnode\n",
    "            prev=prev.next\n",
    "        return head"
   ]
  },
  {
   "cell_type": "code",
   "execution_count": null,
   "id": "b483a25a-d242-48b5-8f61-aabe381ab69b",
   "metadata": {},
   "outputs": [],
   "source": []
  }
 ],
 "metadata": {
  "kernelspec": {
   "display_name": "Python 3 (ipykernel)",
   "language": "python",
   "name": "python3"
  },
  "language_info": {
   "codemirror_mode": {
    "name": "ipython",
    "version": 3
   },
   "file_extension": ".py",
   "mimetype": "text/x-python",
   "name": "python",
   "nbconvert_exporter": "python",
   "pygments_lexer": "ipython3",
   "version": "3.10.6"
  }
 },
 "nbformat": 4,
 "nbformat_minor": 5
}
